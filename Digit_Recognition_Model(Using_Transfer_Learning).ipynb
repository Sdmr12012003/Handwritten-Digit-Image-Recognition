{
  "nbformat": 4,
  "nbformat_minor": 0,
  "metadata": {
    "colab": {
      "provenance": []
    },
    "kernelspec": {
      "name": "python3",
      "display_name": "Python 3"
    },
    "language_info": {
      "name": "python"
    }
  },
  "cells": [
    {
      "cell_type": "code",
      "execution_count": null,
      "metadata": {
        "id": "V7gzsPWP6iVu"
      },
      "outputs": [],
      "source": [
        "import datetime\n",
        "from tensorflow import keras\n",
        "from tensorflow.keras.datasets import mnist\n",
        "from tensorflow.keras.models import Sequential\n",
        "from tensorflow.keras.layers import Dense, Dropout, Activation, Flatten\n",
        "from tensorflow.keras.layers import Conv2D, MaxPooling2D\n",
        "from tensorflow.keras import backend as K"
      ]
    },
    {
      "cell_type": "code",
      "source": [
        "now = datetime.datetime.now"
      ],
      "metadata": {
        "id": "h99o0CaI8nEX"
      },
      "execution_count": null,
      "outputs": []
    },
    {
      "cell_type": "code",
      "source": [
        "now()"
      ],
      "metadata": {
        "colab": {
          "base_uri": "https://localhost:8080/"
        },
        "id": "2usSskDo95f7",
        "outputId": "b8cb4e9f-224a-44fc-a122-b231647c98c2"
      },
      "execution_count": null,
      "outputs": [
        {
          "output_type": "execute_result",
          "data": {
            "text/plain": [
              "datetime.datetime(2023, 7, 12, 16, 44, 3, 726321)"
            ]
          },
          "metadata": {},
          "execution_count": 4
        }
      ]
    },
    {
      "cell_type": "code",
      "source": [
        "#HYPERPARAMETERS INITIALISATION\n",
        "\n",
        "batch_size = 128\n",
        "num_classes = 5\n",
        "epochs = 5"
      ],
      "metadata": {
        "id": "Yji8qB-k_P0h"
      },
      "execution_count": null,
      "outputs": []
    },
    {
      "cell_type": "code",
      "source": [
        "#PARAMETERS INITIALISATION FOR CNN-ARCHITECTURE\n",
        "\n",
        "img_rows, img_cols = 28,28\n",
        "filters = 32\n",
        "pool_size = 2\n",
        "kernel_size = 3"
      ],
      "metadata": {
        "id": "hGFhZOdB_de3"
      },
      "execution_count": null,
      "outputs": []
    },
    {
      "cell_type": "code",
      "source": [
        "#THIS HANDLES SOME VARIABILITY IN HOW INPUT DATA IS LOCATED\n",
        "\n",
        "if K.image_data_format() == 'channels_first':\n",
        "  input_shape = (1 , img_rows,img_cols)\n",
        "else:\n",
        "  input_shape = (img_rows,img_cols , 1)"
      ],
      "metadata": {
        "id": "Ol3PLWJq_tiK"
      },
      "execution_count": null,
      "outputs": []
    },
    {
      "cell_type": "code",
      "source": [
        "#to simplify things, a function to include all the training steps\n",
        "## As input, function takes a model, training set, test set, and the number of classes\n",
        "## Inside the model object will be the state about which layers we are freezing and which are training or fine-tuning the layers\n",
        "\n",
        "def train_model(model , train, test , num_classes):\n",
        "  x_train = train[0].reshape((train[0].shape[0],) + input_shape)\n",
        "  x_test = test[0].reshape((test[0].shape[0] ,) + input_shape)\n",
        "  x_train = x_train.astype(\"float32\")\n",
        "  x_test = x_test.astype('float32')\n",
        "  x_train /= 255 # scalingg every pixel value less than 1 and gaeter than 0\n",
        "  x_test /= 255\n",
        "  print(\"x_train shape:\" , x_train.shape)\n",
        "  print(x_train.shape[0] , 'train samples')\n",
        "  print(x_test.shape[0] , 'test samples')\n",
        "\n",
        "  # convert class vectors into binary classification or one-hot encoding\n",
        "\n",
        "  y_train = keras.utils.to_categorical(train[1] , num_classes)\n",
        "  y_test = keras.utils.to_categorical(test[1] , num_classes)\n",
        "\n",
        "  model.compile(loss = 'categorical_crossentropy' , optimizer = 'adadelta' , metrics = [\"accuracy\"]) # here adaadelta used instead of Adam or RMSprop to slow or smoothen process of finding optimal weights\n",
        "\n",
        "  t = now()\n",
        "  model.fit(x_train , y_train , batch_size = batch_size , epochs =  epochs , verbose = 1 , validation_data = (x_test,y_test) )\n",
        "  print(\"Training time is \" , (now() - t))\n",
        "\n",
        "  score = model.evaluate(x_test , y_test , verbose = 1)\n",
        "  print(\"Test score : \" , score[0])\n",
        "  print(\"Test accuracy : \" , score[1])\n",
        "\n"
      ],
      "metadata": {
        "id": "pxLcBd6EB8F1"
      },
      "execution_count": null,
      "outputs": []
    },
    {
      "cell_type": "code",
      "source": [
        "(x_train, y_train), (x_test, y_test) = mnist.load_data()\n",
        "\n",
        "#create two datasets: one with digits below 5 and one with 5 and above\n",
        "\n",
        "x_train_lt5 = x_train[y_train < 5]\n",
        "y_train_lt5 = y_train[y_train < 5]\n",
        "x_test_lt5 = x_test[y_test < 5]\n",
        "y_test_lt5 = y_test[y_test < 5]\n",
        "\n",
        "x_train_gt5 = x_train[y_train >= 5]\n",
        "y_train_gt5 = y_train[y_train >= 5] - 5\n",
        "x_test_gt5 = x_test[y_test >= 5]\n",
        "y_test_gt5 = y_test[y_test >= 5] - 5\n",
        "\n"
      ],
      "metadata": {
        "id": "k9W5dGgjIvbv"
      },
      "execution_count": null,
      "outputs": []
    },
    {
      "cell_type": "code",
      "source": [
        " #defining a \"early features layers\" which are freezed from fine-tuning and will be\n",
        " #used for Transfer Learning for other model's architecture\n",
        "\n",
        "feature_layers = [\n",
        "    Conv2D(filters , kernel_size , padding = 'valid' , input_shape = input_shape),\n",
        "    Activation('relu'),\n",
        "    Conv2D(filters, kernel_size),\n",
        "    Activation('relu'),\n",
        "    MaxPooling2D(pool_size = pool_size),\n",
        "    Dropout(0.25),\n",
        "    Flatten(),\n",
        "]"
      ],
      "metadata": {
        "id": "_XYgz04WJvx7"
      },
      "execution_count": null,
      "outputs": []
    },
    {
      "cell_type": "code",
      "source": [
        "# defining fine-tuning layers or outer_domain of CNN layers\n",
        "\n",
        "classification_layers = [\n",
        "    Dense(128),\n",
        "    Activation('relu'),\n",
        "    Dropout(0.5),\n",
        "    Dense(num_classes),\n",
        "    Activation('softmax')\n",
        "]"
      ],
      "metadata": {
        "id": "C1bVq3BYLVNU"
      },
      "execution_count": null,
      "outputs": []
    },
    {
      "cell_type": "code",
      "source": [
        "# creating sequential models by combining two above layers into single\n",
        "\n",
        "model = Sequential(feature_layers + classification_layers)"
      ],
      "metadata": {
        "id": "WM4m8ZXmL4c2"
      },
      "execution_count": null,
      "outputs": []
    },
    {
      "cell_type": "code",
      "source": [
        "model.summary()"
      ],
      "metadata": {
        "colab": {
          "base_uri": "https://localhost:8080/"
        },
        "id": "pbX8hXH_MRfI",
        "outputId": "7715a639-81cd-44a6-ea07-491fbda6423c"
      },
      "execution_count": null,
      "outputs": [
        {
          "output_type": "stream",
          "name": "stdout",
          "text": [
            "Model: \"sequential\"\n",
            "_________________________________________________________________\n",
            " Layer (type)                Output Shape              Param #   \n",
            "=================================================================\n",
            " conv2d (Conv2D)             (None, 26, 26, 32)        320       \n",
            "                                                                 \n",
            " activation (Activation)     (None, 26, 26, 32)        0         \n",
            "                                                                 \n",
            " conv2d_1 (Conv2D)           (None, 24, 24, 32)        9248      \n",
            "                                                                 \n",
            " activation_1 (Activation)   (None, 24, 24, 32)        0         \n",
            "                                                                 \n",
            " max_pooling2d (MaxPooling2D  (None, 12, 12, 32)       0         \n",
            " )                                                               \n",
            "                                                                 \n",
            " dropout (Dropout)           (None, 12, 12, 32)        0         \n",
            "                                                                 \n",
            " flatten (Flatten)           (None, 4608)              0         \n",
            "                                                                 \n",
            " dense (Dense)               (None, 128)               589952    \n",
            "                                                                 \n",
            " activation_2 (Activation)   (None, 128)               0         \n",
            "                                                                 \n",
            " dropout_1 (Dropout)         (None, 128)               0         \n",
            "                                                                 \n",
            " dense_1 (Dense)             (None, 5)                 645       \n",
            "                                                                 \n",
            " activation_3 (Activation)   (None, 5)                 0         \n",
            "                                                                 \n",
            "=================================================================\n",
            "Total params: 600,165\n",
            "Trainable params: 600,165\n",
            "Non-trainable params: 0\n",
            "_________________________________________________________________\n"
          ]
        }
      ]
    },
    {
      "cell_type": "code",
      "source": [
        "#training the model to identify digits 5,6,7,8,9\n",
        "\n",
        "train_model(model,\n",
        "            (x_train_gt5 , y_train_gt5),\n",
        "            (x_test_gt5 , y_test_gt5), num_classes)"
      ],
      "metadata": {
        "colab": {
          "base_uri": "https://localhost:8080/"
        },
        "id": "jyRZt0EvMUK_",
        "outputId": "f3812ab0-3474-4335-b5a1-dadf18e6bc90"
      },
      "execution_count": null,
      "outputs": [
        {
          "output_type": "stream",
          "name": "stdout",
          "text": [
            "x_train shape: (29404, 28, 28, 1)\n",
            "29404 train samples\n",
            "4861 test samples\n",
            "Epoch 1/5\n",
            "230/230 [==============================] - 62s 264ms/step - loss: 1.5984 - accuracy: 0.2465 - val_loss: 1.5816 - val_accuracy: 0.3972\n",
            "Epoch 2/5\n",
            "230/230 [==============================] - 60s 259ms/step - loss: 1.5775 - accuracy: 0.3124 - val_loss: 1.5566 - val_accuracy: 0.5419\n",
            "Epoch 3/5\n",
            "230/230 [==============================] - 63s 275ms/step - loss: 1.5538 - accuracy: 0.3821 - val_loss: 1.5294 - val_accuracy: 0.6260\n",
            "Epoch 4/5\n",
            "230/230 [==============================] - 60s 262ms/step - loss: 1.5272 - accuracy: 0.4487 - val_loss: 1.4993 - val_accuracy: 0.6632\n",
            "Epoch 5/5\n",
            "230/230 [==============================] - 61s 263ms/step - loss: 1.5002 - accuracy: 0.4909 - val_loss: 1.4658 - val_accuracy: 0.6780\n",
            "Training time is  0:05:05.928885\n",
            "152/152 [==============================] - 2s 15ms/step - loss: 1.4658 - accuracy: 0.6780\n",
            "Test score :  1.4658153057098389\n",
            "Test accuracy :  0.6780498027801514\n"
          ]
        }
      ]
    },
    {
      "cell_type": "code",
      "source": [
        "#FREEZING EARLY LAYERS\n",
        "\n",
        "for i in feature_layers:\n",
        "  i.trainable = False"
      ],
      "metadata": {
        "id": "r8JXf8VOM9nH"
      },
      "execution_count": null,
      "outputs": []
    },
    {
      "cell_type": "code",
      "source": [
        "model.summary() #here training params less than earlier due to save of traing of early layers which is not neede for next task"
      ],
      "metadata": {
        "colab": {
          "base_uri": "https://localhost:8080/"
        },
        "id": "DKOLtGDHasOk",
        "outputId": "0e4e9dd3-0461-43fa-fb90-4343eb6e921e"
      },
      "execution_count": null,
      "outputs": [
        {
          "output_type": "stream",
          "name": "stdout",
          "text": [
            "Model: \"sequential\"\n",
            "_________________________________________________________________\n",
            " Layer (type)                Output Shape              Param #   \n",
            "=================================================================\n",
            " conv2d (Conv2D)             (None, 26, 26, 32)        320       \n",
            "                                                                 \n",
            " activation (Activation)     (None, 26, 26, 32)        0         \n",
            "                                                                 \n",
            " conv2d_1 (Conv2D)           (None, 24, 24, 32)        9248      \n",
            "                                                                 \n",
            " activation_1 (Activation)   (None, 24, 24, 32)        0         \n",
            "                                                                 \n",
            " max_pooling2d (MaxPooling2D  (None, 12, 12, 32)       0         \n",
            " )                                                               \n",
            "                                                                 \n",
            " dropout (Dropout)           (None, 12, 12, 32)        0         \n",
            "                                                                 \n",
            " flatten (Flatten)           (None, 4608)              0         \n",
            "                                                                 \n",
            " dense (Dense)               (None, 128)               589952    \n",
            "                                                                 \n",
            " activation_2 (Activation)   (None, 128)               0         \n",
            "                                                                 \n",
            " dropout_1 (Dropout)         (None, 128)               0         \n",
            "                                                                 \n",
            " dense_1 (Dense)             (None, 5)                 645       \n",
            "                                                                 \n",
            " activation_3 (Activation)   (None, 5)                 0         \n",
            "                                                                 \n",
            "=================================================================\n",
            "Total params: 600,165\n",
            "Trainable params: 590,597\n",
            "Non-trainable params: 9,568\n",
            "_________________________________________________________________\n"
          ]
        }
      ]
    },
    {
      "cell_type": "code",
      "source": [
        "train_model(model , (x_train_lt5,y_train_lt5),(x_test_lt5,y_test_lt5), num_classes)"
      ],
      "metadata": {
        "colab": {
          "base_uri": "https://localhost:8080/"
        },
        "id": "7JBmJar6avvZ",
        "outputId": "677c10ea-e620-4f96-f17f-c4db8ae1ef3a"
      },
      "execution_count": null,
      "outputs": [
        {
          "output_type": "stream",
          "name": "stdout",
          "text": [
            "x_train shape: (30596, 28, 28, 1)\n",
            "30596 train samples\n",
            "5139 test samples\n",
            "Epoch 1/5\n",
            "240/240 [==============================] - 21s 85ms/step - loss: 1.6142 - accuracy: 0.2213 - val_loss: 1.5909 - val_accuracy: 0.3069\n",
            "Epoch 2/5\n",
            "240/240 [==============================] - 21s 89ms/step - loss: 1.5778 - accuracy: 0.2922 - val_loss: 1.5519 - val_accuracy: 0.4271\n",
            "Epoch 3/5\n",
            "240/240 [==============================] - 20s 84ms/step - loss: 1.5433 - accuracy: 0.3733 - val_loss: 1.5137 - val_accuracy: 0.5238\n",
            "Epoch 4/5\n",
            "240/240 [==============================] - 20s 82ms/step - loss: 1.5096 - accuracy: 0.4461 - val_loss: 1.4761 - val_accuracy: 0.6104\n",
            "Epoch 5/5\n",
            "240/240 [==============================] - 21s 87ms/step - loss: 1.4762 - accuracy: 0.5153 - val_loss: 1.4388 - val_accuracy: 0.7494\n",
            "Training time is  0:02:22.697417\n",
            "161/161 [==============================] - 3s 18ms/step - loss: 1.4388 - accuracy: 0.7494\n",
            "Test score :  1.438792109489441\n",
            "Test accuracy :  0.7493675947189331\n"
          ]
        }
      ]
    },
    {
      "cell_type": "code",
      "source": [],
      "metadata": {
        "id": "Y7NzflbVbPYm"
      },
      "execution_count": null,
      "outputs": []
    }
  ]
}